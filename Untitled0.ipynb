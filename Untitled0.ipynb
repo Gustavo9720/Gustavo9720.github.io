{
  "nbformat": 4,
  "nbformat_minor": 0,
  "metadata": {
    "colab": {
      "provenance": [],
      "authorship_tag": "ABX9TyPNfsQcYLpVAhffN5ESSHoz",
      "include_colab_link": true
    },
    "kernelspec": {
      "name": "python3",
      "display_name": "Python 3"
    },
    "language_info": {
      "name": "python"
    }
  },
  "cells": [
    {
      "cell_type": "markdown",
      "metadata": {
        "id": "view-in-github",
        "colab_type": "text"
      },
      "source": [
        "<a href=\"https://colab.research.google.com/github/Gustavo9720/Gustavo9720.github.io/blob/main/Untitled0.ipynb\" target=\"_parent\"><img src=\"https://colab.research.google.com/assets/colab-badge.svg\" alt=\"Open In Colab\"/></a>"
      ]
    },
    {
      "cell_type": "markdown",
      "source": [
        "TUPLAS, LISTAS, DICCIONARIOS"
      ],
      "metadata": {
        "id": "LDV47voFWiAD"
      }
    },
    {
      "cell_type": "markdown",
      "source": [
        "Diccionarios"
      ],
      "metadata": {
        "id": "3tl7aLzKUpxX"
      }
    },
    {
      "cell_type": "code",
      "execution_count": 5,
      "metadata": {
        "id": "mtLCQqSbRdXd"
      },
      "outputs": [],
      "source": [
        "Diccionario = {\n",
        "    \"clave 1\": \"esta es la primera linea del diccionario\",\n",
        "    \"clave2\": \"esta es la segunda\",\n",
        "    \"clave3\": \"esta es la tercera\",\n",
        "\n",
        "}"
      ]
    },
    {
      "cell_type": "markdown",
      "source": [],
      "metadata": {
        "id": "qMHEg71pWZho"
      }
    },
    {
      "cell_type": "code",
      "source": [
        "for claves in Diccionario:\n",
        "  print(Diccionario[claves])"
      ],
      "metadata": {
        "colab": {
          "base_uri": "https://localhost:8080/"
        },
        "id": "uBzr0hb6S4D1",
        "outputId": "58032138-b305-44a5-ff1f-fdab5988bc4f"
      },
      "execution_count": 8,
      "outputs": [
        {
          "output_type": "stream",
          "name": "stdout",
          "text": [
            "esta es la primera linea del diccionario\n",
            "esta es la segunda\n",
            " esta es la tercera\n"
          ]
        }
      ]
    },
    {
      "cell_type": "markdown",
      "source": [
        "Funciones aplicables a diccionarios\n"
      ],
      "metadata": {
        "id": "rIfVFW2TUZDO"
      }
    },
    {
      "cell_type": "code",
      "source": [
        "list(Diccionario)\n"
      ],
      "metadata": {
        "colab": {
          "base_uri": "https://localhost:8080/"
        },
        "id": "Qz_o3yBJS-CA",
        "outputId": "2c4234cf-010a-44f4-bbd9-9ace936f7611"
      },
      "execution_count": 10,
      "outputs": [
        {
          "output_type": "execute_result",
          "data": {
            "text/plain": [
              "['clave 1', 'clave2', 'clave3']"
            ]
          },
          "metadata": {},
          "execution_count": 10
        }
      ]
    },
    {
      "cell_type": "code",
      "source": [
        "print(Diccionario)"
      ],
      "metadata": {
        "colab": {
          "base_uri": "https://localhost:8080/"
        },
        "id": "kv6SzRKoSJS6",
        "outputId": "aa8a9d8e-c076-486f-fe0e-c47859a84f2e"
      },
      "execution_count": 6,
      "outputs": [
        {
          "output_type": "stream",
          "name": "stdout",
          "text": [
            "{'clave 1': 'esta es la primera linea del diccionario', 'clave2': 'esta es la segunda', 'clave3': ' esta es la tercera'}\n"
          ]
        }
      ]
    },
    {
      "cell_type": "markdown",
      "source": [
        "PREGUNTAS SOBRE LISTAS DEL DICCIONARIO\n"
      ],
      "metadata": {
        "id": "VcbmUNmbWHpf"
      }
    },
    {
      "cell_type": "code",
      "source": [
        "\"clave2\" in Diccionario"
      ],
      "metadata": {
        "colab": {
          "base_uri": "https://localhost:8080/"
        },
        "id": "n3EhekyoV7LT",
        "outputId": "76142ff4-c84a-40ae-a8a5-b6b0c776d8dc"
      },
      "execution_count": 15,
      "outputs": [
        {
          "output_type": "execute_result",
          "data": {
            "text/plain": [
              "True"
            ]
          },
          "metadata": {},
          "execution_count": 15
        }
      ]
    }
  ]
}